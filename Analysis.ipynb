{
 "cells": [
  {
   "cell_type": "markdown",
   "id": "18a81e7f",
   "metadata": {},
   "source": [
    "# Analysis of Yelp Business Intelligence Data"
   ]
  },
  {
   "cell_type": "markdown",
   "id": "b8ba2caa",
   "metadata": {},
   "source": [
    "We will analyze a subset of Yelp's business, reviews and user data. This dataset comes to us from Kaggle although we have taken steps to pull this data into a publis s3 bucket: `s3://cis9760-yelpdataset/yelp-light/*business.json`"
   ]
  },
  {
   "cell_type": "markdown",
   "id": "5b26b5a8",
   "metadata": {},
   "source": [
    "# Installation and Initial Setup"
   ]
  },
  {
   "cell_type": "markdown",
   "id": "a4476bf7",
   "metadata": {},
   "source": [
    "Begin by installing the necessary libraries that you may need to conduct your analysis. At the very least, you must install `pandas` and `matplotlib`"
   ]
  },
  {
   "cell_type": "code",
   "execution_count": 1,
   "id": "9ab0619a",
   "metadata": {},
   "outputs": [
    {
     "data": {
      "text/html": [
       "Current session configs: <tt>{'conf': {'spark.pyspark.python': 'python3', 'spark.pyspark.virtualenv.enabled': 'true', 'spark.pyspark.virtualenv.type': 'native', 'spark.pyspark.virtualenv.bin.path': '/usr/bin/virtualenv'}, 'kind': 'pyspark'}</tt><br>"
      ],
      "text/plain": [
       "<IPython.core.display.HTML object>"
      ]
     },
     "metadata": {},
     "output_type": "display_data"
    },
    {
     "data": {
      "text/html": [
       "No active sessions."
      ],
      "text/plain": [
       "<IPython.core.display.HTML object>"
      ]
     },
     "metadata": {},
     "output_type": "display_data"
    }
   ],
   "source": [
    "%%info"
   ]
  },
  {
   "cell_type": "code",
   "execution_count": 2,
   "id": "11dc1de9",
   "metadata": {},
   "outputs": [
    {
     "data": {
      "application/vnd.jupyter.widget-view+json": {
       "model_id": "da7bc3b9f0894861b8b6a11b8bdcbc8f",
       "version_major": 2,
       "version_minor": 0
      },
      "text/plain": [
       "VBox()"
      ]
     },
     "metadata": {},
     "output_type": "display_data"
    },
    {
     "name": "stdout",
     "output_type": "stream",
     "text": [
      "Starting Spark application\n"
     ]
    },
    {
     "data": {
      "text/html": [
       "<table>\n",
       "<tr><th>ID</th><th>YARN Application ID</th><th>Kind</th><th>State</th><th>Spark UI</th><th>Driver log</th><th>Current session?</th></tr><tr><td>0</td><td>application_1651374988795_0001</td><td>pyspark</td><td>idle</td><td><a target=\"_blank\" href=\"http://ip-172-31-46-240.us-east-2.compute.internal:20888/proxy/application_1651374988795_0001/\">Link</a></td><td><a target=\"_blank\" href=\"http://ip-172-31-46-201.us-east-2.compute.internal:8042/node/containerlogs/container_1651374988795_0001_01_000001/livy\">Link</a></td><td>✔</td></tr></table>"
      ],
      "text/plain": [
       "<IPython.core.display.HTML object>"
      ]
     },
     "metadata": {},
     "output_type": "display_data"
    },
    {
     "data": {
      "application/vnd.jupyter.widget-view+json": {
       "model_id": "",
       "version_major": 2,
       "version_minor": 0
      },
      "text/plain": [
       "FloatProgress(value=0.0, bar_style='info', description='Progress:', layout=Layout(height='25px', width='50%'),…"
      ]
     },
     "metadata": {},
     "output_type": "display_data"
    },
    {
     "name": "stdout",
     "output_type": "stream",
     "text": [
      "SparkSession available as 'spark'.\n"
     ]
    },
    {
     "data": {
      "application/vnd.jupyter.widget-view+json": {
       "model_id": "",
       "version_major": 2,
       "version_minor": 0
      },
      "text/plain": [
       "FloatProgress(value=0.0, bar_style='info', description='Progress:', layout=Layout(height='25px', width='50%'),…"
      ]
     },
     "metadata": {},
     "output_type": "display_data"
    },
    {
     "name": "stdout",
     "output_type": "stream",
     "text": [
      "Collecting IPython\n",
      "  Downloading https://files.pythonhosted.org/packages/e0/fe/9ebd7029678bd9730bcabba366e98b53db955c5a7dc78d4e51f7514f08c2/ipython-7.33.0-py3-none-any.whl (793kB)\n",
      "Collecting matplotlib-inline (from IPython)\n",
      "  Downloading https://files.pythonhosted.org/packages/a6/2d/2230afd570c70074e80fd06857ba2bdc5f10c055bd9125665fe276fadb67/matplotlib_inline-0.1.3-py3-none-any.whl\n",
      "Requirement already satisfied: setuptools>=18.5 in /mnt/tmp/1651375529793-0/lib/python3.7/site-packages (from IPython)\n",
      "Collecting pexpect>4.3; sys_platform != \"win32\" (from IPython)\n",
      "  Downloading https://files.pythonhosted.org/packages/39/7b/88dbb785881c28a102619d46423cb853b46dbccc70d3ac362d99773a78ce/pexpect-4.8.0-py2.py3-none-any.whl (59kB)\n",
      "Collecting decorator (from IPython)\n",
      "  Downloading https://files.pythonhosted.org/packages/d5/50/83c593b07763e1161326b3b8c6686f0f4b0f24d5526546bee538c89837d6/decorator-5.1.1-py3-none-any.whl\n",
      "Collecting traitlets>=4.2 (from IPython)\n",
      "  Downloading https://files.pythonhosted.org/packages/37/46/be8a3c030bd3673f4800fa7f46eda972dfa2990089a51ec5dd0a26ed33e9/traitlets-5.1.1-py3-none-any.whl (102kB)\n",
      "Collecting jedi>=0.16 (from IPython)\n",
      "  Downloading https://files.pythonhosted.org/packages/b3/0e/836f12ec50075161e365131f13f5758451645af75c2becf61c6351ecec39/jedi-0.18.1-py2.py3-none-any.whl (1.6MB)\n",
      "Collecting prompt-toolkit!=3.0.0,!=3.0.1,<3.1.0,>=2.0.0 (from IPython)\n",
      "  Downloading https://files.pythonhosted.org/packages/3f/2d/dcb44d69f388ca2ee1a4a4d3c204ab66b36975c0d5166781eaeeff76b882/prompt_toolkit-3.0.29-py3-none-any.whl (381kB)\n",
      "Collecting pickleshare (from IPython)\n",
      "  Downloading https://files.pythonhosted.org/packages/9a/41/220f49aaea88bc6fa6cba8d05ecf24676326156c23b991e80b3f2fc24c77/pickleshare-0.7.5-py2.py3-none-any.whl\n",
      "Collecting backcall (from IPython)\n",
      "  Downloading https://files.pythonhosted.org/packages/4c/1c/ff6546b6c12603d8dd1070aa3c3d273ad4c07f5771689a7b69a550e8c951/backcall-0.2.0-py2.py3-none-any.whl\n",
      "Collecting pygments (from IPython)\n",
      "  Downloading https://files.pythonhosted.org/packages/5c/8e/1d9017950034297fffa336c72e693a5b51bbf85141b24a763882cf1977b5/Pygments-2.12.0-py3-none-any.whl (1.1MB)\n",
      "Collecting ptyprocess>=0.5 (from pexpect>4.3; sys_platform != \"win32\"->IPython)\n",
      "  Downloading https://files.pythonhosted.org/packages/22/a6/858897256d0deac81a172289110f31629fc4cee19b6f01283303e18c8db3/ptyprocess-0.7.0-py2.py3-none-any.whl\n",
      "Collecting parso<0.9.0,>=0.8.0 (from jedi>=0.16->IPython)\n",
      "  Downloading https://files.pythonhosted.org/packages/05/63/8011bd08a4111858f79d2b09aad86638490d62fbf881c44e434a6dfca87b/parso-0.8.3-py2.py3-none-any.whl (100kB)\n",
      "Collecting wcwidth (from prompt-toolkit!=3.0.0,!=3.0.1,<3.1.0,>=2.0.0->IPython)\n",
      "  Downloading https://files.pythonhosted.org/packages/59/7c/e39aca596badaf1b78e8f547c807b04dae603a433d3e7a7e04d67f2ef3e5/wcwidth-0.2.5-py2.py3-none-any.whl\n",
      "Installing collected packages: traitlets, matplotlib-inline, ptyprocess, pexpect, decorator, parso, jedi, wcwidth, prompt-toolkit, pickleshare, backcall, pygments, IPython\n",
      "Successfully installed IPython-7.33.0 backcall-0.2.0 decorator-5.1.1 jedi-0.18.1 matplotlib-inline-0.1.3 parso-0.8.3 pexpect-4.8.0 pickleshare-0.7.5 prompt-toolkit-3.0.29 ptyprocess-0.7.0 pygments-2.12.0 traitlets-5.1.1 wcwidth-0.2.5"
     ]
    }
   ],
   "source": [
    "sc.install_pypi_package( \"IPython\" )"
   ]
  },
  {
   "cell_type": "code",
   "execution_count": 3,
   "id": "cf213f16",
   "metadata": {},
   "outputs": [
    {
     "data": {
      "application/vnd.jupyter.widget-view+json": {
       "model_id": "11d32ab43afd4a86aecbd5f5004b21d4",
       "version_major": 2,
       "version_minor": 0
      },
      "text/plain": [
       "VBox()"
      ]
     },
     "metadata": {},
     "output_type": "display_data"
    },
    {
     "data": {
      "application/vnd.jupyter.widget-view+json": {
       "model_id": "",
       "version_major": 2,
       "version_minor": 0
      },
      "text/plain": [
       "FloatProgress(value=0.0, bar_style='info', description='Progress:', layout=Layout(height='25px', width='50%'),…"
      ]
     },
     "metadata": {},
     "output_type": "display_data"
    },
    {
     "name": "stdout",
     "output_type": "stream",
     "text": [
      "Collecting matplotlib==3.2.1\n",
      "  Downloading https://files.pythonhosted.org/packages/b2/c2/71fcf957710f3ba1f09088b35776a799ba7dd95f7c2b195ec800933b276b/matplotlib-3.2.1-cp37-cp37m-manylinux1_x86_64.whl (12.4MB)\n",
      "Collecting python-dateutil>=2.1 (from matplotlib==3.2.1)\n",
      "  Downloading https://files.pythonhosted.org/packages/36/7a/87837f39d0296e723bb9b62bbb257d0355c7f6128853c78955f57342a56d/python_dateutil-2.8.2-py2.py3-none-any.whl (247kB)\n",
      "Collecting pyparsing!=2.0.4,!=2.1.2,!=2.1.6,>=2.0.1 (from matplotlib==3.2.1)\n",
      "  Downloading https://files.pythonhosted.org/packages/d9/41/d9cfb4410589805cd787f8a82cddd13142d9bf7449d12adf2d05a4a7d633/pyparsing-3.0.8-py3-none-any.whl (98kB)\n",
      "Collecting cycler>=0.10 (from matplotlib==3.2.1)\n",
      "  Downloading https://files.pythonhosted.org/packages/5c/f9/695d6bedebd747e5eb0fe8fad57b72fdf25411273a39791cde838d5a8f51/cycler-0.11.0-py3-none-any.whl\n",
      "Requirement already satisfied: numpy>=1.11 in /usr/local/lib64/python3.7/site-packages (from matplotlib==3.2.1)\n",
      "Collecting kiwisolver>=1.0.1 (from matplotlib==3.2.1)\n",
      "  Downloading https://files.pythonhosted.org/packages/51/50/9a9a94afa26c50fc5d9127272737806990aa698c7a1c220b8e5075e70304/kiwisolver-1.4.2-cp37-cp37m-manylinux_2_5_x86_64.manylinux1_x86_64.whl (1.1MB)\n",
      "Requirement already satisfied: six>=1.5 in /usr/local/lib/python3.7/site-packages (from python-dateutil>=2.1->matplotlib==3.2.1)\n",
      "Collecting typing-extensions; python_version < \"3.8\" (from kiwisolver>=1.0.1->matplotlib==3.2.1)\n",
      "  Downloading https://files.pythonhosted.org/packages/75/e1/932e06004039dd670c9d5e1df0cd606bf46e29a28e65d5bb28e894ea29c9/typing_extensions-4.2.0-py3-none-any.whl\n",
      "Installing collected packages: python-dateutil, pyparsing, cycler, typing-extensions, kiwisolver, matplotlib\n",
      "Successfully installed cycler-0.11.0 kiwisolver-1.4.2 matplotlib-3.2.1 pyparsing-3.0.8 python-dateutil-2.8.2 typing-extensions-4.2.0\n",
      "\n",
      "Collecting pandas==1.0.3\n",
      "  Downloading https://files.pythonhosted.org/packages/4a/6a/94b219b8ea0f2d580169e85ed1edc0163743f55aaeca8a44c2e8fc1e344e/pandas-1.0.3-cp37-cp37m-manylinux1_x86_64.whl (10.0MB)\n",
      "Requirement already satisfied: pytz>=2017.2 in /usr/local/lib/python3.7/site-packages (from pandas==1.0.3)\n",
      "Requirement already satisfied: numpy>=1.13.3 in /usr/local/lib64/python3.7/site-packages (from pandas==1.0.3)\n",
      "Requirement already satisfied: python-dateutil>=2.6.1 in /mnt/tmp/1651375529793-0/lib/python3.7/site-packages (from pandas==1.0.3)\n",
      "Requirement already satisfied: six>=1.5 in /usr/local/lib/python3.7/site-packages (from python-dateutil>=2.6.1->pandas==1.0.3)\n",
      "Installing collected packages: pandas\n",
      "Successfully installed pandas-1.0.3"
     ]
    }
   ],
   "source": [
    "sc.install_pypi_package( \"matplotlib==3.2.1\" )\n",
    "sc.install_pypi_package( \"pandas==1.0.3\" )\n",
    "#sc.install_pypi_package(\"seaborn==0.11.2\")"
   ]
  },
  {
   "cell_type": "code",
   "execution_count": 4,
   "id": "47aa9a12",
   "metadata": {},
   "outputs": [
    {
     "data": {
      "application/vnd.jupyter.widget-view+json": {
       "model_id": "3baf1c35c12a4c669e0c6862474fe65c",
       "version_major": 2,
       "version_minor": 0
      },
      "text/plain": [
       "VBox()"
      ]
     },
     "metadata": {},
     "output_type": "display_data"
    },
    {
     "data": {
      "application/vnd.jupyter.widget-view+json": {
       "model_id": "",
       "version_major": 2,
       "version_minor": 0
      },
      "text/plain": [
       "FloatProgress(value=0.0, bar_style='info', description='Progress:', layout=Layout(height='25px', width='50%'),…"
      ]
     },
     "metadata": {},
     "output_type": "display_data"
    },
    {
     "name": "stdout",
     "output_type": "stream",
     "text": [
      "Collecting scipy==1.7.1\n",
      "  Downloading https://files.pythonhosted.org/packages/b5/6b/8bc0b61ebf824f8c3979a31368bbe38dd247590049a994ab0ed077cb56dc/scipy-1.7.1-cp37-cp37m-manylinux_2_5_x86_64.manylinux1_x86_64.whl (28.5MB)\n",
      "Requirement already satisfied: numpy<1.23.0,>=1.16.5 in /usr/local/lib64/python3.7/site-packages (from scipy==1.7.1)\n",
      "Installing collected packages: scipy\n",
      "Successfully installed scipy-1.7.1\n",
      "\n",
      "Collecting seaborn==0.11.2\n",
      "  Downloading https://files.pythonhosted.org/packages/10/5b/0479d7d845b5ba410ca702ffcd7f2cd95a14a4dfff1fde2637802b258b9b/seaborn-0.11.2-py3-none-any.whl (292kB)\n",
      "Requirement already satisfied: numpy>=1.15 in /usr/local/lib64/python3.7/site-packages (from seaborn==0.11.2)\n",
      "Requirement already satisfied: scipy>=1.0 in /mnt/tmp/1651375529793-0/lib/python3.7/site-packages (from seaborn==0.11.2)\n",
      "Requirement already satisfied: matplotlib>=2.2 in /mnt/tmp/1651375529793-0/lib/python3.7/site-packages (from seaborn==0.11.2)\n",
      "Requirement already satisfied: pandas>=0.23 in /mnt/tmp/1651375529793-0/lib/python3.7/site-packages (from seaborn==0.11.2)\n",
      "Requirement already satisfied: python-dateutil>=2.1 in /mnt/tmp/1651375529793-0/lib/python3.7/site-packages (from matplotlib>=2.2->seaborn==0.11.2)\n",
      "Requirement already satisfied: pyparsing!=2.0.4,!=2.1.2,!=2.1.6,>=2.0.1 in /mnt/tmp/1651375529793-0/lib/python3.7/site-packages (from matplotlib>=2.2->seaborn==0.11.2)\n",
      "Requirement already satisfied: cycler>=0.10 in /mnt/tmp/1651375529793-0/lib/python3.7/site-packages (from matplotlib>=2.2->seaborn==0.11.2)\n",
      "Requirement already satisfied: kiwisolver>=1.0.1 in /mnt/tmp/1651375529793-0/lib/python3.7/site-packages (from matplotlib>=2.2->seaborn==0.11.2)\n",
      "Requirement already satisfied: pytz>=2017.2 in /usr/local/lib/python3.7/site-packages (from pandas>=0.23->seaborn==0.11.2)\n",
      "Requirement already satisfied: six>=1.5 in /usr/local/lib/python3.7/site-packages (from python-dateutil>=2.1->matplotlib>=2.2->seaborn==0.11.2)\n",
      "Requirement already satisfied: typing-extensions; python_version < \"3.8\" in /mnt/tmp/1651375529793-0/lib/python3.7/site-packages (from kiwisolver>=1.0.1->matplotlib>=2.2->seaborn==0.11.2)\n",
      "Installing collected packages: seaborn\n",
      "Successfully installed seaborn-0.11.2"
     ]
    }
   ],
   "source": [
    "sc.install_pypi_package(\"scipy==1.7.1\")\n",
    "sc.install_pypi_package( \"seaborn==0.11.2\" )\n",
    "#import seaborn as sns\n"
   ]
  },
  {
   "cell_type": "markdown",
   "id": "a6b093ff",
   "metadata": {},
   "source": [
    "## Importing"
   ]
  },
  {
   "cell_type": "markdown",
   "id": "fb96b93e",
   "metadata": {},
   "source": [
    "Now, import the installed packages from the previous block below."
   ]
  },
  {
   "cell_type": "code",
   "execution_count": 5,
   "id": "2e280849",
   "metadata": {},
   "outputs": [
    {
     "data": {
      "application/vnd.jupyter.widget-view+json": {
       "model_id": "1acced437bcc4116ae456a214af5f3a3",
       "version_major": 2,
       "version_minor": 0
      },
      "text/plain": [
       "VBox()"
      ]
     },
     "metadata": {},
     "output_type": "display_data"
    },
    {
     "data": {
      "application/vnd.jupyter.widget-view+json": {
       "model_id": "",
       "version_major": 2,
       "version_minor": 0
      },
      "text/plain": [
       "FloatProgress(value=0.0, bar_style='info', description='Progress:', layout=Layout(height='25px', width='50%'),…"
      ]
     },
     "metadata": {},
     "output_type": "display_data"
    }
   ],
   "source": [
    "import pandas as pd\n",
    "import numpy as np\n",
    "import matplotlib.pyplot as plt\n",
    "import seaborn as sns"
   ]
  },
  {
   "cell_type": "code",
   "execution_count": 6,
   "id": "3517718b",
   "metadata": {},
   "outputs": [],
   "source": [
    "%matplotlib inline"
   ]
  },
  {
   "cell_type": "code",
   "execution_count": 7,
   "id": "ebc0c4f3",
   "metadata": {},
   "outputs": [
    {
     "data": {
      "application/vnd.jupyter.widget-view+json": {
       "model_id": "b604d8fdbaa94289b9f5e6abb98a2b46",
       "version_major": 2,
       "version_minor": 0
      },
      "text/plain": [
       "VBox()"
      ]
     },
     "metadata": {},
     "output_type": "display_data"
    },
    {
     "data": {
      "application/vnd.jupyter.widget-view+json": {
       "model_id": "",
       "version_major": 2,
       "version_minor": 0
      },
      "text/plain": [
       "FloatProgress(value=0.0, bar_style='info', description='Progress:', layout=Layout(height='25px', width='50%'),…"
      ]
     },
     "metadata": {},
     "output_type": "display_data"
    },
    {
     "name": "stdout",
     "output_type": "stream",
     "text": [
      "Package                    Version  \n",
      "-------------------------- ---------\n",
      "backcall                   0.2.0    \n",
      "beautifulsoup4             4.9.1    \n",
      "boto                       2.49.0   \n",
      "click                      7.1.2    \n",
      "cycler                     0.11.0   \n",
      "decorator                  5.1.1    \n",
      "ipython                    7.33.0   \n",
      "jedi                       0.18.1   \n",
      "jmespath                   0.10.0   \n",
      "joblib                     0.16.0   \n",
      "kiwisolver                 1.4.2    \n",
      "lxml                       4.5.2    \n",
      "matplotlib                 3.2.1    \n",
      "matplotlib-inline          0.1.3    \n",
      "mysqlclient                1.4.2    \n",
      "nltk                       3.5      \n",
      "nose                       1.3.4    \n",
      "numpy                      1.16.5   \n",
      "pandas                     1.0.3    \n",
      "parso                      0.8.3    \n",
      "pexpect                    4.8.0    \n",
      "pickleshare                0.7.5    \n",
      "pip                        9.0.1    \n",
      "prompt-toolkit             3.0.29   \n",
      "ptyprocess                 0.7.0    \n",
      "py-dateutil                2.2      \n",
      "Pygments                   2.12.0   \n",
      "pyparsing                  3.0.8    \n",
      "python-dateutil            2.8.2    \n",
      "python37-sagemaker-pyspark 1.4.0    \n",
      "pytz                       2020.1   \n",
      "PyYAML                     5.3.1    \n",
      "regex                      2020.7.14\n",
      "scipy                      1.7.1    \n",
      "seaborn                    0.11.2   \n",
      "setuptools                 28.8.0   \n",
      "six                        1.13.0   \n",
      "soupsieve                  1.9.5    \n",
      "tqdm                       4.48.2   \n",
      "traitlets                  5.1.1    \n",
      "typing-extensions          4.2.0    \n",
      "wcwidth                    0.2.5    \n",
      "wheel                      0.29.0   \n",
      "windmill                   1.6"
     ]
    }
   ],
   "source": [
    "sc.list_packages() #we are just trying to make seaborn work  here"
   ]
  },
  {
   "cell_type": "markdown",
   "id": "df63a92b",
   "metadata": {},
   "source": [
    "## Loading Data"
   ]
  },
  {
   "cell_type": "markdown",
   "id": "15d8e133",
   "metadata": {},
   "source": [
    "We are finally ready to load data. Using spark load the data from S3 into a dataframe object that we can manipulate further down in our analysis."
   ]
  },
  {
   "cell_type": "code",
   "execution_count": 8,
   "id": "e38c7612",
   "metadata": {},
   "outputs": [
    {
     "data": {
      "application/vnd.jupyter.widget-view+json": {
       "model_id": "89e6248745d54cacb0282c952f5e41d7",
       "version_major": 2,
       "version_minor": 0
      },
      "text/plain": [
       "VBox()"
      ]
     },
     "metadata": {},
     "output_type": "display_data"
    },
    {
     "data": {
      "application/vnd.jupyter.widget-view+json": {
       "model_id": "",
       "version_major": 2,
       "version_minor": 0
      },
      "text/plain": [
       "FloatProgress(value=0.0, bar_style='info', description='Progress:', layout=Layout(height='25px', width='50%'),…"
      ]
     },
     "metadata": {},
     "output_type": "display_data"
    }
   ],
   "source": [
    "business_data  = spark.read.json( 's3://yelp-reviews-dataset/yelp_academic_dataset_business.json' )\n"
   ]
  },
  {
   "cell_type": "code",
   "execution_count": 9,
   "id": "cce3ee0c",
   "metadata": {},
   "outputs": [
    {
     "data": {
      "application/vnd.jupyter.widget-view+json": {
       "model_id": "cc5be696590d45029b8fba2db6631d55",
       "version_major": 2,
       "version_minor": 0
      },
      "text/plain": [
       "VBox()"
      ]
     },
     "metadata": {},
     "output_type": "display_data"
    },
    {
     "data": {
      "application/vnd.jupyter.widget-view+json": {
       "model_id": "",
       "version_major": 2,
       "version_minor": 0
      },
      "text/plain": [
       "FloatProgress(value=0.0, bar_style='info', description='Progress:', layout=Layout(height='25px', width='50%'),…"
      ]
     },
     "metadata": {},
     "output_type": "display_data"
    },
    {
     "name": "stdout",
     "output_type": "stream",
     "text": [
      "+--------------------+--------------------+--------------------+--------------------+--------------+--------------------+-------+----------+------------+--------------------+-----------+------------+-----+-----+\n",
      "|             address|          attributes|         business_id|          categories|          city|               hours|is_open|  latitude|   longitude|                name|postal_code|review_count|stars|state|\n",
      "+--------------------+--------------------+--------------------+--------------------+--------------+--------------------+-------+----------+------------+--------------------+-----------+------------+-----+-----+\n",
      "|1616 Chapala St, ...|[,,,,,,,,,,, True...|Pns2l4eNsfO8kk83d...|Doctors, Traditio...| Santa Barbara|                null|      0|34.4266787|-119.7111968|Abby Rappoport, L...|      93101|           7|  5.0|   CA|\n",
      "|87 Grasso Plaza S...|[,,,,,,,,, True,,...|mpf3x-BjTdTEA3yCZ...|Shipping Centers,...|        Affton|[8:0-18:30, 0:0-0...|      1| 38.551126|  -90.335695|       The UPS Store|      63123|          15|  3.0|   MO|\n",
      "|5255 E Broadway Blvd|[,,,,,,, True,, T...|tUFrWirKiKi_TAnsV...|Department Stores...|        Tucson|[8:0-23:0, 8:0-22...|      0| 32.223236| -110.880452|              Target|      85711|          22|  3.5|   AZ|\n",
      "|         935 Race St|[,, u'none',,,,, ...|MTSW4McQd7CbVtyjq...|Restaurants, Food...|  Philadelphia|[7:0-21:0, 7:0-20...|      1|39.9555052| -75.1555641|  St Honore Pastries|      19107|          80|  4.0|   PA|\n",
      "|       101 Walnut St|[,,,,,,, True,, T...|mWMc6_wTdE0EUBKIG...|Brewpubs, Breweri...|    Green Lane|[12:0-22:0,, 12:0...|      1|40.3381827| -75.4716585|Perkiomen Valley ...|      18054|          13|  4.5|   PA|\n",
      "|       615 S Main St|[,, u'none', None...|CF33F8-E6oudUQ46H...|Burgers, Fast Foo...|  Ashland City|[9:0-0:0, 0:0-0:0...|      1| 36.269593|  -87.058943|      Sonic Drive-In|      37015|           6|  2.0|   TN|\n",
      "|8522 Eager Road, ...|[,,,,,,, True,, T...|n_0UpQx1hsNbnPUSl...|Sporting Goods, F...|     Brentwood|[10:0-18:0, 0:0-0...|      1| 38.627695|  -90.340465|     Famous Footwear|      63144|          13|  2.5|   MO|\n",
      "|  400 Pasadena Ave S|                null|qkRM_2X51Yqxk3btl...|Synagogues, Relig...|St. Petersburg|[9:0-17:0, 9:0-17...|      1|  27.76659|  -82.732983|      Temple Beth-El|      33707|           5|  3.5|   FL|\n",
      "|   8025 Mackenzie Rd|[,, u'full_bar', ...|k0hlBqXX-Bt0vf1op...|Pubs, Restaurants...|        Affton|                null|      0|38.5651648| -90.3210868|Tsevi's Pub And G...|      63123|          19|  3.0|   MO|\n",
      "| 2312 Dickerson Pike|[,, u'none',,,,,,...|bBDDEgkFA1Otx9Lfe...|Ice Cream & Froze...|     Nashville|[6:0-16:0, 0:0-0:...|      1|36.2081024| -86.7681696|      Sonic Drive-In|      37207|          10|  1.5|   TN|\n",
      "+--------------------+--------------------+--------------------+--------------------+--------------+--------------------+-------+----------+------------+--------------------+-----------+------------+-----+-----+\n",
      "only showing top 10 rows"
     ]
    }
   ],
   "source": [
    "business_data.show(10)"
   ]
  },
  {
   "cell_type": "markdown",
   "id": "7abb866d",
   "metadata": {},
   "source": [
    "# Overview of Data"
   ]
  },
  {
   "cell_type": "markdown",
   "id": "07c787ca",
   "metadata": {},
   "source": [
    "Display the number of rows and columns in our dataset."
   ]
  },
  {
   "cell_type": "code",
   "execution_count": 10,
   "id": "2bfe2d6c",
   "metadata": {},
   "outputs": [
    {
     "data": {
      "application/vnd.jupyter.widget-view+json": {
       "model_id": "f2765e7236f94c93a7b81e0315e400b4",
       "version_major": 2,
       "version_minor": 0
      },
      "text/plain": [
       "VBox()"
      ]
     },
     "metadata": {},
     "output_type": "display_data"
    },
    {
     "data": {
      "application/vnd.jupyter.widget-view+json": {
       "model_id": "",
       "version_major": 2,
       "version_minor": 0
      },
      "text/plain": [
       "FloatProgress(value=0.0, bar_style='info', description='Progress:', layout=Layout(height='25px', width='50%'),…"
      ]
     },
     "metadata": {},
     "output_type": "display_data"
    },
    {
     "name": "stdout",
     "output_type": "stream",
     "text": [
      "Number of columns in Business table:  14\n",
      "Number of rows in Business table:  150346"
     ]
    }
   ],
   "source": [
    "columns=len(business_data.columns)\n",
    "rows=business_data.count()\n",
    "print('Number of columns in Business table:  '+str(columns))\n",
    "print('Number of rows in Business table:  '+str(rows))"
   ]
  },
  {
   "cell_type": "markdown",
   "id": "dc29ae82",
   "metadata": {},
   "source": [
    "Display the DataFrame schema below."
   ]
  },
  {
   "cell_type": "code",
   "execution_count": 11,
   "id": "07ea5fbb",
   "metadata": {},
   "outputs": [
    {
     "data": {
      "application/vnd.jupyter.widget-view+json": {
       "model_id": "d0895675ea974b42880331ac1a86d93a",
       "version_major": 2,
       "version_minor": 0
      },
      "text/plain": [
       "VBox()"
      ]
     },
     "metadata": {},
     "output_type": "display_data"
    },
    {
     "data": {
      "application/vnd.jupyter.widget-view+json": {
       "model_id": "",
       "version_major": 2,
       "version_minor": 0
      },
      "text/plain": [
       "FloatProgress(value=0.0, bar_style='info', description='Progress:', layout=Layout(height='25px', width='50%'),…"
      ]
     },
     "metadata": {},
     "output_type": "display_data"
    },
    {
     "name": "stdout",
     "output_type": "stream",
     "text": [
      "root\n",
      " |-- address: string (nullable = true)\n",
      " |-- attributes: struct (nullable = true)\n",
      " |    |-- AcceptsInsurance: string (nullable = true)\n",
      " |    |-- AgesAllowed: string (nullable = true)\n",
      " |    |-- Alcohol: string (nullable = true)\n",
      " |    |-- Ambience: string (nullable = true)\n",
      " |    |-- BYOB: string (nullable = true)\n",
      " |    |-- BYOBCorkage: string (nullable = true)\n",
      " |    |-- BestNights: string (nullable = true)\n",
      " |    |-- BikeParking: string (nullable = true)\n",
      " |    |-- BusinessAcceptsBitcoin: string (nullable = true)\n",
      " |    |-- BusinessAcceptsCreditCards: string (nullable = true)\n",
      " |    |-- BusinessParking: string (nullable = true)\n",
      " |    |-- ByAppointmentOnly: string (nullable = true)\n",
      " |    |-- Caters: string (nullable = true)\n",
      " |    |-- CoatCheck: string (nullable = true)\n",
      " |    |-- Corkage: string (nullable = true)\n",
      " |    |-- DietaryRestrictions: string (nullable = true)\n",
      " |    |-- DogsAllowed: string (nullable = true)\n",
      " |    |-- DriveThru: string (nullable = true)\n",
      " |    |-- GoodForDancing: string (nullable = true)\n",
      " |    |-- GoodForKids: string (nullable = true)\n",
      " |    |-- GoodForMeal: string (nullable = true)\n",
      " |    |-- HairSpecializesIn: string (nullable = true)\n",
      " |    |-- HappyHour: string (nullable = true)\n",
      " |    |-- HasTV: string (nullable = true)\n",
      " |    |-- Music: string (nullable = true)\n",
      " |    |-- NoiseLevel: string (nullable = true)\n",
      " |    |-- Open24Hours: string (nullable = true)\n",
      " |    |-- OutdoorSeating: string (nullable = true)\n",
      " |    |-- RestaurantsAttire: string (nullable = true)\n",
      " |    |-- RestaurantsCounterService: string (nullable = true)\n",
      " |    |-- RestaurantsDelivery: string (nullable = true)\n",
      " |    |-- RestaurantsGoodForGroups: string (nullable = true)\n",
      " |    |-- RestaurantsPriceRange2: string (nullable = true)\n",
      " |    |-- RestaurantsReservations: string (nullable = true)\n",
      " |    |-- RestaurantsTableService: string (nullable = true)\n",
      " |    |-- RestaurantsTakeOut: string (nullable = true)\n",
      " |    |-- Smoking: string (nullable = true)\n",
      " |    |-- WheelchairAccessible: string (nullable = true)\n",
      " |    |-- WiFi: string (nullable = true)\n",
      " |-- business_id: string (nullable = true)\n",
      " |-- categories: string (nullable = true)\n",
      " |-- city: string (nullable = true)\n",
      " |-- hours: struct (nullable = true)\n",
      " |    |-- Friday: string (nullable = true)\n",
      " |    |-- Monday: string (nullable = true)\n",
      " |    |-- Saturday: string (nullable = true)\n",
      " |    |-- Sunday: string (nullable = true)\n",
      " |    |-- Thursday: string (nullable = true)\n",
      " |    |-- Tuesday: string (nullable = true)\n",
      " |    |-- Wednesday: string (nullable = true)\n",
      " |-- is_open: long (nullable = true)\n",
      " |-- latitude: double (nullable = true)\n",
      " |-- longitude: double (nullable = true)\n",
      " |-- name: string (nullable = true)\n",
      " |-- postal_code: string (nullable = true)\n",
      " |-- review_count: long (nullable = true)\n",
      " |-- stars: double (nullable = true)\n",
      " |-- state: string (nullable = true)"
     ]
    }
   ],
   "source": [
    "business_data.printSchema()"
   ]
  },
  {
   "cell_type": "markdown",
   "id": "75278d43",
   "metadata": {},
   "source": [
    "Display the first 5 rows with the following columns:\n",
    "\n",
    "* `business_id`\n",
    "* `name`\n",
    "* `city`\n",
    "* `state`\n",
    "* `categories`"
   ]
  },
  {
   "cell_type": "code",
   "execution_count": 12,
   "id": "94b0a482",
   "metadata": {},
   "outputs": [
    {
     "data": {
      "application/vnd.jupyter.widget-view+json": {
       "model_id": "22d2738fee3146c88a7f70a64659fda8",
       "version_major": 2,
       "version_minor": 0
      },
      "text/plain": [
       "VBox()"
      ]
     },
     "metadata": {},
     "output_type": "display_data"
    },
    {
     "data": {
      "application/vnd.jupyter.widget-view+json": {
       "model_id": "",
       "version_major": 2,
       "version_minor": 0
      },
      "text/plain": [
       "FloatProgress(value=0.0, bar_style='info', description='Progress:', layout=Layout(height='25px', width='50%'),…"
      ]
     },
     "metadata": {},
     "output_type": "display_data"
    },
    {
     "name": "stdout",
     "output_type": "stream",
     "text": [
      "+--------------------+--------------------+-------------+-----+--------------------+\n",
      "|         business_id|                name|         city|state|          categories|\n",
      "+--------------------+--------------------+-------------+-----+--------------------+\n",
      "|Pns2l4eNsfO8kk83d...|Abby Rappoport, L...|Santa Barbara|   CA|Doctors, Traditio...|\n",
      "|mpf3x-BjTdTEA3yCZ...|       The UPS Store|       Affton|   MO|Shipping Centers,...|\n",
      "|tUFrWirKiKi_TAnsV...|              Target|       Tucson|   AZ|Department Stores...|\n",
      "|MTSW4McQd7CbVtyjq...|  St Honore Pastries| Philadelphia|   PA|Restaurants, Food...|\n",
      "|mWMc6_wTdE0EUBKIG...|Perkiomen Valley ...|   Green Lane|   PA|Brewpubs, Breweri...|\n",
      "+--------------------+--------------------+-------------+-----+--------------------+\n",
      "only showing top 5 rows"
     ]
    }
   ],
   "source": [
    "business_data.select(['business_id','name','city','state','categories']).show(5)"
   ]
  },
  {
   "cell_type": "markdown",
   "id": "6fece28f",
   "metadata": {},
   "source": [
    "# Analyzing Categories"
   ]
  },
  {
   "cell_type": "markdown",
   "id": "c6c46d5b",
   "metadata": {},
   "source": [
    "Let's now answer this question: **how many unique categories are represented in this dataset?**\n",
    "\n",
    "Essentially, we have the categories per business as a list - this is useful to quickly see what each business might be represented as but it is difficult to easily answer questions such as:\n",
    "\n",
    "* How many businesses are categorized as `Active Life`, for instance\n",
    "* What are the top 20 most popular categories available?"
   ]
  },
  {
   "cell_type": "markdown",
   "id": "660fba04",
   "metadata": {},
   "source": [
    "## Association Table\n",
    "\n",
    "We need to \"break out\" these categories from the business ids? One common approach to take is to build an association table mapping a single business id multiple times to each distinct category.\n",
    "\n",
    "For instance, given the following:\n",
    "\n",
    "\n",
    "| business_id | categories |\n",
    "|-------------|------------|\n",
    "| abcd123     | a,b,c      |\n",
    "\n",
    "We would like to derive something like:\n",
    "\n",
    "| business_id | category |\n",
    "|-------------|------------|\n",
    "| abcd123     | a          |\n",
    "| abcd123     | b          |\n",
    "| abcd123     | c          |\n",
    "\n",
    "\n",
    "What this does is allow us to then perform a myriad of rollups and other analysis on this association table which can aid us in answering the questions asked above.\n",
    "\n",
    "Implement the code necessary to derive the table described from your original yelp dataframe."
   ]
  },
  {
   "cell_type": "code",
   "execution_count": 13,
   "id": "c0eb22d8",
   "metadata": {},
   "outputs": [
    {
     "data": {
      "application/vnd.jupyter.widget-view+json": {
       "model_id": "6e5c8ba93f1644c59650f343e6805ff3",
       "version_major": 2,
       "version_minor": 0
      },
      "text/plain": [
       "VBox()"
      ]
     },
     "metadata": {},
     "output_type": "display_data"
    },
    {
     "data": {
      "application/vnd.jupyter.widget-view+json": {
       "model_id": "",
       "version_major": 2,
       "version_minor": 0
      },
      "text/plain": [
       "FloatProgress(value=0.0, bar_style='info', description='Progress:', layout=Layout(height='25px', width='50%'),…"
      ]
     },
     "metadata": {},
     "output_type": "display_data"
    }
   ],
   "source": [
    "from pyspark.sql.functions import split, explode"
   ]
  },
  {
   "cell_type": "code",
   "execution_count": 14,
   "id": "378fbab4",
   "metadata": {},
   "outputs": [
    {
     "data": {
      "application/vnd.jupyter.widget-view+json": {
       "model_id": "b4a0e76f32b64978bdfa0b5da4d93109",
       "version_major": 2,
       "version_minor": 0
      },
      "text/plain": [
       "VBox()"
      ]
     },
     "metadata": {},
     "output_type": "display_data"
    },
    {
     "data": {
      "application/vnd.jupyter.widget-view+json": {
       "model_id": "",
       "version_major": 2,
       "version_minor": 0
      },
      "text/plain": [
       "FloatProgress(value=0.0, bar_style='info', description='Progress:', layout=Layout(height='25px', width='50%'),…"
      ]
     },
     "metadata": {},
     "output_type": "display_data"
    },
    {
     "name": "stdout",
     "output_type": "stream",
     "text": [
      "+--------------------+--------------------+\n",
      "|         business_id|          categories|\n",
      "+--------------------+--------------------+\n",
      "|Pns2l4eNsfO8kk83d...|Doctors, Traditio...|\n",
      "|mpf3x-BjTdTEA3yCZ...|Shipping Centers,...|\n",
      "|tUFrWirKiKi_TAnsV...|Department Stores...|\n",
      "|MTSW4McQd7CbVtyjq...|Restaurants, Food...|\n",
      "|mWMc6_wTdE0EUBKIG...|Brewpubs, Breweri...|\n",
      "+--------------------+--------------------+\n",
      "only showing top 5 rows"
     ]
    }
   ],
   "source": [
    "business_data.select('business_id','categories').show(5) #to display how the the orignal structure was"
   ]
  },
  {
   "cell_type": "markdown",
   "id": "5f92bc49",
   "metadata": {},
   "source": [
    "Display the first 5 rows of your association table below."
   ]
  },
  {
   "cell_type": "code",
   "execution_count": 15,
   "id": "f0e1c1db",
   "metadata": {},
   "outputs": [
    {
     "data": {
      "application/vnd.jupyter.widget-view+json": {
       "model_id": "761495f5b319436093e526081586dfd8",
       "version_major": 2,
       "version_minor": 0
      },
      "text/plain": [
       "VBox()"
      ]
     },
     "metadata": {},
     "output_type": "display_data"
    },
    {
     "data": {
      "application/vnd.jupyter.widget-view+json": {
       "model_id": "",
       "version_major": 2,
       "version_minor": 0
      },
      "text/plain": [
       "FloatProgress(value=0.0, bar_style='info', description='Progress:', layout=Layout(height='25px', width='50%'),…"
      ]
     },
     "metadata": {},
     "output_type": "display_data"
    },
    {
     "name": "stdout",
     "output_type": "stream",
     "text": [
      "+--------------------+--------------------+\n",
      "|         business_id|            category|\n",
      "+--------------------+--------------------+\n",
      "|Pns2l4eNsfO8kk83d...|             Doctors|\n",
      "|Pns2l4eNsfO8kk83d...|Traditional Chine...|\n",
      "|Pns2l4eNsfO8kk83d...|Naturopathic/Holi...|\n",
      "|Pns2l4eNsfO8kk83d...|         Acupuncture|\n",
      "|Pns2l4eNsfO8kk83d...|    Health & Medical|\n",
      "+--------------------+--------------------+\n",
      "only showing top 5 rows"
     ]
    }
   ],
   "source": [
    "#we will split the categories coloumn so that it maintains atomicity with just one value per row\n",
    "\n",
    "asso_tab = business_data.select(business_data.business_id, explode(split(business_data.categories, \", \"))\\\n",
    "                                       .alias('category'))\n",
    "\n",
    "asso_tab.show(5)"
   ]
  },
  {
   "cell_type": "markdown",
   "id": "0d0c598a",
   "metadata": {},
   "source": [
    "# Total Unique Categories"
   ]
  },
  {
   "cell_type": "markdown",
   "id": "64649a62",
   "metadata": {},
   "source": [
    "Finally, we are ready to answer the question: **what is the total number of unique categories available?**\n",
    "\n",
    "Below, implement the code necessary to calculate this figure."
   ]
  },
  {
   "cell_type": "code",
   "execution_count": 16,
   "id": "56df0fa4",
   "metadata": {},
   "outputs": [
    {
     "data": {
      "application/vnd.jupyter.widget-view+json": {
       "model_id": "a0fe0bdfd1494621a64e3bd861397b6b",
       "version_major": 2,
       "version_minor": 0
      },
      "text/plain": [
       "VBox()"
      ]
     },
     "metadata": {},
     "output_type": "display_data"
    },
    {
     "data": {
      "application/vnd.jupyter.widget-view+json": {
       "model_id": "",
       "version_major": 2,
       "version_minor": 0
      },
      "text/plain": [
       "FloatProgress(value=0.0, bar_style='info', description='Progress:', layout=Layout(height='25px', width='50%'),…"
      ]
     },
     "metadata": {},
     "output_type": "display_data"
    },
    {
     "name": "stdout",
     "output_type": "stream",
     "text": [
      "1311"
     ]
    }
   ],
   "source": [
    "asso_tab.select('category').distinct().count()"
   ]
  },
  {
   "cell_type": "markdown",
   "id": "8d0c0f03",
   "metadata": {},
   "source": [
    "## Top Categories By Business\n",
    "\n",
    "Now let's find the top categories in this dataset by rolling up categories."
   ]
  },
  {
   "cell_type": "markdown",
   "id": "7849d334",
   "metadata": {},
   "source": [
    "### Counts of Businesses / Category"
   ]
  },
  {
   "cell_type": "markdown",
   "id": "a6712312",
   "metadata": {},
   "source": [
    "So now, let's unroll our distinct count a bit and display the per count value of businesses per category.\n",
    "\n",
    "The expected output should be:\n",
    "\n",
    "| category | count |\n",
    "|-------------|------------|\n",
    "| a     | 15         |\n",
    "| b     | 2          |\n",
    "| c     | 45          |\n",
    "\n",
    "Or something to that effect."
   ]
  },
  {
   "cell_type": "code",
   "execution_count": 17,
   "id": "e3c9df77",
   "metadata": {},
   "outputs": [
    {
     "data": {
      "application/vnd.jupyter.widget-view+json": {
       "model_id": "076ae595f31b4613abc931daf64f3b75",
       "version_major": 2,
       "version_minor": 0
      },
      "text/plain": [
       "VBox()"
      ]
     },
     "metadata": {},
     "output_type": "display_data"
    },
    {
     "data": {
      "application/vnd.jupyter.widget-view+json": {
       "model_id": "",
       "version_major": 2,
       "version_minor": 0
      },
      "text/plain": [
       "FloatProgress(value=0.0, bar_style='info', description='Progress:', layout=Layout(height='25px', width='50%'),…"
      ]
     },
     "metadata": {},
     "output_type": "display_data"
    },
    {
     "name": "stdout",
     "output_type": "stream",
     "text": [
      "+--------------------+-----+\n",
      "|            category|count|\n",
      "+--------------------+-----+\n",
      "|      Paddleboarding|   98|\n",
      "|      Dermatologists|  336|\n",
      "|         Hobby Shops|  552|\n",
      "|          Bubble Tea|  477|\n",
      "|             Embassy|    3|\n",
      "|             Tanning|  667|\n",
      "|            Handyman|  356|\n",
      "|      Aerial Fitness|   19|\n",
      "|             Falafel|  103|\n",
      "|        Summer Camps|  232|\n",
      "|       Outlet Stores|  182|\n",
      "|     Clothing Rental|   37|\n",
      "|      Sporting Goods| 1662|\n",
      "|     Cooking Schools|   76|\n",
      "|  Lactation Services|   27|\n",
      "|Ski & Snowboard S...|   40|\n",
      "|             Museums|  413|\n",
      "|              Doulas|   31|\n",
      "|                Food|27781|\n",
      "|         Halotherapy|   23|\n",
      "+--------------------+-----+\n",
      "only showing top 20 rows"
     ]
    }
   ],
   "source": [
    "asso_tab.groupby('category').count().show(20)"
   ]
  },
  {
   "cell_type": "markdown",
   "id": "d0edd80e",
   "metadata": {},
   "source": [
    "### Bar Chart of Top Categories\n",
    "\n",
    "With this data available, let us now build a barchart of the top 20 categories. \n",
    "\n",
    "**HINT**: don't forget about the matplotlib magic!\n",
    "\n",
    "```\n",
    "%matplot plt\n",
    "```\n",
    "\n",
    "If you want, you can also use seaborn library"
   ]
  },
  {
   "cell_type": "code",
   "execution_count": 18,
   "id": "2eda51d2",
   "metadata": {},
   "outputs": [
    {
     "data": {
      "application/vnd.jupyter.widget-view+json": {
       "model_id": "66b5533d12294db9aca03ca58b169fab",
       "version_major": 2,
       "version_minor": 0
      },
      "text/plain": [
       "VBox()"
      ]
     },
     "metadata": {},
     "output_type": "display_data"
    },
    {
     "data": {
      "application/vnd.jupyter.widget-view+json": {
       "model_id": "",
       "version_major": 2,
       "version_minor": 0
      },
      "text/plain": [
       "FloatProgress(value=0.0, bar_style='info', description='Progress:', layout=Layout(height='25px', width='50%'),…"
      ]
     },
     "metadata": {},
     "output_type": "display_data"
    },
    {
     "name": "stdout",
     "output_type": "stream",
     "text": [
      "+-------------+-----+\n",
      "|     category|count|\n",
      "+-------------+-----+\n",
      "|  Restaurants|52268|\n",
      "|         Food|27781|\n",
      "|     Shopping|24395|\n",
      "|Home Services|14356|\n",
      "|Beauty & Spas|14292|\n",
      "+-------------+-----+\n",
      "only showing top 5 rows"
     ]
    }
   ],
   "source": [
    "temp = asso_tab.groupby('category')\\\n",
    "                    .count()\\\n",
    "                    .orderBy(['count'], ascending = False)\n",
    "temp.show(5)\n"
   ]
  },
  {
   "cell_type": "code",
   "execution_count": 19,
   "id": "1aee8c91",
   "metadata": {},
   "outputs": [
    {
     "data": {
      "application/vnd.jupyter.widget-view+json": {
       "model_id": "524755ac360b44398436175e3e43c03b",
       "version_major": 2,
       "version_minor": 0
      },
      "text/plain": [
       "VBox()"
      ]
     },
     "metadata": {},
     "output_type": "display_data"
    },
    {
     "data": {
      "application/vnd.jupyter.widget-view+json": {
       "model_id": "",
       "version_major": 2,
       "version_minor": 0
      },
      "text/plain": [
       "FloatProgress(value=0.0, bar_style='info', description='Progress:', layout=Layout(height='25px', width='50%'),…"
      ]
     },
     "metadata": {},
     "output_type": "display_data"
    },
    {
     "name": "stdout",
     "output_type": "stream",
     "text": [
      "                     category  count\n",
      "19            Hotels & Travel   5857\n",
      "18             American (New)   6097\n",
      "17         Breakfast & Brunch   6239\n",
      "16                  Fast Food   6472\n",
      "15               Coffee & Tea   6703\n",
      "14                      Pizza   7093\n",
      "13                Active Life   7687\n",
      "12     American (Traditional)   8139\n",
      "11                 Sandwiches   8366\n",
      "10  Event Planning & Services   9895\n",
      "9                  Automotive  10773\n",
      "8                        Bars  11065\n",
      "7              Local Services  11198\n",
      "6            Health & Medical  11890\n",
      "5                   Nightlife  12281\n",
      "4               Beauty & Spas  14292\n",
      "3               Home Services  14356\n",
      "2                    Shopping  24395\n",
      "1                        Food  27781\n",
      "0                 Restaurants  52268"
     ]
    }
   ],
   "source": [
    "df=temp.toPandas()\\\n",
    "    .head(20)\\\n",
    "    .sort_values(ascending = True, by='count')\n",
    "\n",
    "df.head(20)"
   ]
  },
  {
   "cell_type": "code",
   "execution_count": 20,
   "id": "a49a997f",
   "metadata": {},
   "outputs": [
    {
     "data": {
      "application/vnd.jupyter.widget-view+json": {
       "model_id": "44f4c7ccb9594b96a7c579a57eb132c7",
       "version_major": 2,
       "version_minor": 0
      },
      "text/plain": [
       "VBox()"
      ]
     },
     "metadata": {},
     "output_type": "display_data"
    },
    {
     "data": {
      "application/vnd.jupyter.widget-view+json": {
       "model_id": "",
       "version_major": 2,
       "version_minor": 0
      },
      "text/plain": [
       "FloatProgress(value=0.0, bar_style='info', description='Progress:', layout=Layout(height='25px', width='50%'),…"
      ]
     },
     "metadata": {},
     "output_type": "display_data"
    },
    {
     "data": {
      "image/png": "[encoded data removed]",
      "text/plain": [
       "<IPython.core.display.Image object>"
      ]
     },
     "metadata": {},
     "output_type": "display_data"
    }
   ],
   "source": [
    "temp.toPandas()\\\n",
    "    .head(20)\\\n",
    "    .sort_values(ascending = True, by='count')\\\n",
    "    .plot.bar(y = 'count', \n",
    "               x = 'category', \n",
    "               rot=90, \n",
    "               title = 'Top Categories by Business', \n",
    "               legend = True,\n",
    "               figsize=(17,19),\n",
    "               color = 'maroon')\\\n",
    "    .set(xlabel=\"Count\", ylabel = 'Category')\\\n",
    "    \n",
    "\n",
    "\n",
    "%matplot plt\n",
    "\n"
   ]
  },
  {
   "cell_type": "markdown",
   "id": "92ae5f22",
   "metadata": {},
   "source": [
    "## Loading User Data\n",
    "\n",
    "Begin by loading the user data set from S3 and printing schema to determine what data is available. `s3://cis9760-yelpdataset/yelp-light/*review.json`"
   ]
  },
  {
   "cell_type": "code",
   "execution_count": 21,
   "id": "d148683a",
   "metadata": {},
   "outputs": [
    {
     "data": {
      "application/vnd.jupyter.widget-view+json": {
       "model_id": "b4519da2850941f2bb371bb82fe4a547",
       "version_major": 2,
       "version_minor": 0
      },
      "text/plain": [
       "VBox()"
      ]
     },
     "metadata": {},
     "output_type": "display_data"
    },
    {
     "data": {
      "application/vnd.jupyter.widget-view+json": {
       "model_id": "",
       "version_major": 2,
       "version_minor": 0
      },
      "text/plain": [
       "FloatProgress(value=0.0, bar_style='info', description='Progress:', layout=Layout(height='25px', width='50%'),…"
      ]
     },
     "metadata": {},
     "output_type": "display_data"
    }
   ],
   "source": [
    "review_data = spark.read.json('s3://yelp-reviews-dataset/yelp_academic_dataset_review.json')\n",
    "user_data = spark.read.json('s3://yelp-reviews-dataset/yelp_academic_dataset_user.json')"
   ]
  },
  {
   "cell_type": "code",
   "execution_count": 22,
   "id": "eefe93f3",
   "metadata": {},
   "outputs": [
    {
     "data": {
      "application/vnd.jupyter.widget-view+json": {
       "model_id": "4e52a7a9862b44b9a3722941f196346b",
       "version_major": 2,
       "version_minor": 0
      },
      "text/plain": [
       "VBox()"
      ]
     },
     "metadata": {},
     "output_type": "display_data"
    },
    {
     "data": {
      "application/vnd.jupyter.widget-view+json": {
       "model_id": "",
       "version_major": 2,
       "version_minor": 0
      },
      "text/plain": [
       "FloatProgress(value=0.0, bar_style='info', description='Progress:', layout=Layout(height='25px', width='50%'),…"
      ]
     },
     "metadata": {},
     "output_type": "display_data"
    },
    {
     "name": "stdout",
     "output_type": "stream",
     "text": [
      "root\n",
      " |-- business_id: string (nullable = true)\n",
      " |-- cool: long (nullable = true)\n",
      " |-- date: string (nullable = true)\n",
      " |-- funny: long (nullable = true)\n",
      " |-- review_id: string (nullable = true)\n",
      " |-- stars: double (nullable = true)\n",
      " |-- text: string (nullable = true)\n",
      " |-- useful: long (nullable = true)\n",
      " |-- user_id: string (nullable = true)"
     ]
    }
   ],
   "source": [
    "review_data.printSchema()"
   ]
  },
  {
   "cell_type": "markdown",
   "id": "452fa31b",
   "metadata": {},
   "source": [
    "Let's begin by listing the `business_id` and `stars` columns together for the user reviews data."
   ]
  },
  {
   "cell_type": "code",
   "execution_count": 23,
   "id": "a523694d",
   "metadata": {},
   "outputs": [
    {
     "data": {
      "application/vnd.jupyter.widget-view+json": {
       "model_id": "4f27de5b93744612a731942dfcfc2e2f",
       "version_major": 2,
       "version_minor": 0
      },
      "text/plain": [
       "VBox()"
      ]
     },
     "metadata": {},
     "output_type": "display_data"
    },
    {
     "data": {
      "application/vnd.jupyter.widget-view+json": {
       "model_id": "",
       "version_major": 2,
       "version_minor": 0
      },
      "text/plain": [
       "FloatProgress(value=0.0, bar_style='info', description='Progress:', layout=Layout(height='25px', width='50%'),…"
      ]
     },
     "metadata": {},
     "output_type": "display_data"
    },
    {
     "name": "stdout",
     "output_type": "stream",
     "text": [
      "root\n",
      " |-- average_stars: double (nullable = true)\n",
      " |-- compliment_cool: long (nullable = true)\n",
      " |-- compliment_cute: long (nullable = true)\n",
      " |-- compliment_funny: long (nullable = true)\n",
      " |-- compliment_hot: long (nullable = true)\n",
      " |-- compliment_list: long (nullable = true)\n",
      " |-- compliment_more: long (nullable = true)\n",
      " |-- compliment_note: long (nullable = true)\n",
      " |-- compliment_photos: long (nullable = true)\n",
      " |-- compliment_plain: long (nullable = true)\n",
      " |-- compliment_profile: long (nullable = true)\n",
      " |-- compliment_writer: long (nullable = true)\n",
      " |-- cool: long (nullable = true)\n",
      " |-- elite: string (nullable = true)\n",
      " |-- fans: long (nullable = true)\n",
      " |-- friends: string (nullable = true)\n",
      " |-- funny: long (nullable = true)\n",
      " |-- name: string (nullable = true)\n",
      " |-- review_count: long (nullable = true)\n",
      " |-- useful: long (nullable = true)\n",
      " |-- user_id: string (nullable = true)\n",
      " |-- yelping_since: string (nullable = true)"
     ]
    }
   ],
   "source": [
    "user_data.printSchema()"
   ]
  },
  {
   "cell_type": "code",
   "execution_count": 24,
   "id": "0e369eb7",
   "metadata": {},
   "outputs": [
    {
     "data": {
      "application/vnd.jupyter.widget-view+json": {
       "model_id": "ab939066a2ea4296ac4214ba8f29ccb6",
       "version_major": 2,
       "version_minor": 0
      },
      "text/plain": [
       "VBox()"
      ]
     },
     "metadata": {},
     "output_type": "display_data"
    },
    {
     "data": {
      "application/vnd.jupyter.widget-view+json": {
       "model_id": "",
       "version_major": 2,
       "version_minor": 0
      },
      "text/plain": [
       "FloatProgress(value=0.0, bar_style='info', description='Progress:', layout=Layout(height='25px', width='50%'),…"
      ]
     },
     "metadata": {},
     "output_type": "display_data"
    },
    {
     "name": "stdout",
     "output_type": "stream",
     "text": [
      "+--------------------+-----+\n",
      "|         business_id|stars|\n",
      "+--------------------+-----+\n",
      "|XQfwVwDr-v0ZS3_Cb...|  3.0|\n",
      "|7ATYjTIgM3jUlt4UM...|  5.0|\n",
      "|YjUWPpI6HXG530lwP...|  3.0|\n",
      "|kxX2SOes4o-D3ZQBk...|  5.0|\n",
      "|e4Vwtrqf-wpJfwesg...|  4.0|\n",
      "+--------------------+-----+\n",
      "only showing top 5 rows"
     ]
    }
   ],
   "source": [
    "review_data.createOrReplaceTempView(\"stars\")\n",
    "output = spark.sql('select business_id, stars from stars')\n",
    "output.show(5)"
   ]
  },
  {
   "cell_type": "markdown",
   "id": "dc41a14e",
   "metadata": {},
   "source": [
    "Now, let's aggregate along the `stars` column to get a resultant dataframe that displays _average stars_ per business as accumulated by users who **took the time to submit a written review**."
   ]
  },
  {
   "cell_type": "code",
   "execution_count": 25,
   "id": "b62f90e0",
   "metadata": {},
   "outputs": [
    {
     "data": {
      "application/vnd.jupyter.widget-view+json": {
       "model_id": "1a4b99affb12405abd059118e150596a",
       "version_major": 2,
       "version_minor": 0
      },
      "text/plain": [
       "VBox()"
      ]
     },
     "metadata": {},
     "output_type": "display_data"
    },
    {
     "data": {
      "application/vnd.jupyter.widget-view+json": {
       "model_id": "",
       "version_major": 2,
       "version_minor": 0
      },
      "text/plain": [
       "FloatProgress(value=0.0, bar_style='info', description='Progress:', layout=Layout(height='25px', width='50%'),…"
      ]
     },
     "metadata": {},
     "output_type": "display_data"
    },
    {
     "name": "stdout",
     "output_type": "stream",
     "text": [
      "+--------------------+------------------+\n",
      "|         business_id|          avgstars|\n",
      "+--------------------+------------------+\n",
      "|zJErbOQMKX-MwHs_u...|2.9279279279279278|\n",
      "|RZ-FNTXvqHKngyLGD...|2.8823529411764706|\n",
      "|HSzSGdcNaU7heQe0N...|3.3333333333333335|\n",
      "|skW4boArIApRw9DXK...|2.3947368421052633|\n",
      "|I0053JmJ5DEFUWSJ8...|2.3956043956043955|\n",
      "+--------------------+------------------+\n",
      "only showing top 5 rows"
     ]
    }
   ],
   "source": [
    "avg_aggstars = spark.sql('select business_id, avg(stars) as avgstars from stars group by business_id')\n",
    "avg_aggstars.createOrReplaceTempView(\"reviews\")\n",
    "avg_aggstars.show(5)"
   ]
  },
  {
   "cell_type": "markdown",
   "id": "b9d9d81b",
   "metadata": {},
   "source": [
    "Now the fun part - let's join our two dataframes (reviews and business data) by `business_id`. "
   ]
  },
  {
   "cell_type": "code",
   "execution_count": 26,
   "id": "66297946",
   "metadata": {},
   "outputs": [
    {
     "data": {
      "application/vnd.jupyter.widget-view+json": {
       "model_id": "6fb1a700d1354b20bf28fbb18ddd0d22",
       "version_major": 2,
       "version_minor": 0
      },
      "text/plain": [
       "VBox()"
      ]
     },
     "metadata": {},
     "output_type": "display_data"
    },
    {
     "data": {
      "application/vnd.jupyter.widget-view+json": {
       "model_id": "",
       "version_major": 2,
       "version_minor": 0
      },
      "text/plain": [
       "FloatProgress(value=0.0, bar_style='info', description='Progress:', layout=Layout(height='25px', width='50%'),…"
      ]
     },
     "metadata": {},
     "output_type": "display_data"
    }
   ],
   "source": [
    "#output = spark.sql(\n",
    "#'''\n",
    "#SELECT rev.*, bus.stars, bus.name, bus.city, bus.state \n",
    " #                       from business as bus \n",
    "  #                      left join reviews as rev \n",
    "   #                     on bus.business_id = rev.business_id''')\n",
    "#output.createOrReplaceTempView(\"joinedOutput\")"
   ]
  },
  {
   "cell_type": "code",
   "execution_count": 27,
   "id": "09cb606b",
   "metadata": {},
   "outputs": [
    {
     "data": {
      "application/vnd.jupyter.widget-view+json": {
       "model_id": "25efcc6c649a4d2d8fcfd9535512bf16",
       "version_major": 2,
       "version_minor": 0
      },
      "text/plain": [
       "VBox()"
      ]
     },
     "metadata": {},
     "output_type": "display_data"
    },
    {
     "data": {
      "application/vnd.jupyter.widget-view+json": {
       "model_id": "",
       "version_major": 2,
       "version_minor": 0
      },
      "text/plain": [
       "FloatProgress(value=0.0, bar_style='info', description='Progress:', layout=Layout(height='25px', width='50%'),…"
      ]
     },
     "metadata": {},
     "output_type": "display_data"
    },
    {
     "name": "stdout",
     "output_type": "stream",
     "text": [
      "+--------------------+------------+-----+-----+------------------+\n",
      "|                name|        city|state|stars|          avgstars|\n",
      "+--------------------+------------+-----+-----+------------------+\n",
      "|Philadelphia Marr...|Philadelphia|   PA|  3.0|2.9279279279279278|\n",
      "|Gaetano's of West...| West Berlin|   NJ|  3.0|2.8823529411764706|\n",
      "|Gillane's Bar & G...|     Ardmore|   PA|  3.0|3.3333333333333335|\n",
      "|Champps Penn's La...|Philadelphia|   PA|  2.5|2.3947368421052633|\n",
      "|Golden Corral Buf...|      Tucson|   AZ|  2.5|2.3956043956043955|\n",
      "|  Swiss Watch Center|       Tampa|   FL|  3.5| 3.357142857142857|\n",
      "|  NJ Weedman's Joint|     Trenton|   NJ|  4.0| 4.232558139534884|\n",
      "|       A Able Movers|      Tucson|   AZ|  2.0|             1.875|\n",
      "|       Numchok Wilai|    Edmonton|   AB|  4.5|               4.3|\n",
      "|             Safeway|      Sparks|   NV|  3.0|2.8117647058823527|\n",
      "+--------------------+------------+-----+-----+------------------+\n",
      "only showing top 10 rows"
     ]
    }
   ],
   "source": [
    "reviews_only= avg_aggstars.select(\"business_id\",\"avgstars\")\n",
    "business_only= business_data.select(\"business_id\",\"name\",\"city\",\"state\",\"stars\")\n",
    "reviews_business= reviews_only.join(business_only, reviews_only.business_id == business_only.business_id, how=\"left\")\n",
    "reviews_business.select(\"name\",\"city\",\"state\",\"stars\",\"avgstars\").show(10)"
   ]
  },
  {
   "cell_type": "code",
   "execution_count": 28,
   "id": "d3921aba",
   "metadata": {},
   "outputs": [
    {
     "data": {
      "application/vnd.jupyter.widget-view+json": {
       "model_id": "4477766873934631abcd3fe3660c204d",
       "version_major": 2,
       "version_minor": 0
      },
      "text/plain": [
       "VBox()"
      ]
     },
     "metadata": {},
     "output_type": "display_data"
    },
    {
     "data": {
      "application/vnd.jupyter.widget-view+json": {
       "model_id": "",
       "version_major": 2,
       "version_minor": 0
      },
      "text/plain": [
       "FloatProgress(value=0.0, bar_style='info', description='Progress:', layout=Layout(height='25px', width='50%'),…"
      ]
     },
     "metadata": {},
     "output_type": "display_data"
    }
   ],
   "source": [
    "reviews_business.createOrReplaceTempView(\"reviews_business\")"
   ]
  },
  {
   "cell_type": "markdown",
   "id": "6e6f4f13",
   "metadata": {},
   "source": [
    "Let's see a few of these:"
   ]
  },
  {
   "cell_type": "markdown",
   "id": "765bcea0",
   "metadata": {},
   "source": [
    "Compute a new dataframe that calculates what we will call the _skew_ (for lack of a better word) between the avg stars accumulated from written reviews and the _actual_ star rating of a business (ie: the average of stars given by reviewers who wrote an actual review **and** reviewers who just provided a star rating).\n",
    "\n",
    "The formula you can use is something like:\n",
    "\n",
    "```\n",
    "(row['avg(stars)'] - row['stars']) / row['stars']\n",
    "```\n",
    "\n",
    "If the **skew** is negative, we can interpret that to be: reviewers who left a written response were more dissatisfied than normal. If **skew** is positive, we can interpret that to be: reviewers who left a written response were more satisfied than normal."
   ]
  },
  {
   "cell_type": "code",
   "execution_count": 29,
   "id": "2d5c771f",
   "metadata": {},
   "outputs": [
    {
     "data": {
      "application/vnd.jupyter.widget-view+json": {
       "model_id": "2dfb4eab0c7d41efaeb6cad2100d3c06",
       "version_major": 2,
       "version_minor": 0
      },
      "text/plain": [
       "VBox()"
      ]
     },
     "metadata": {},
     "output_type": "display_data"
    },
    {
     "data": {
      "application/vnd.jupyter.widget-view+json": {
       "model_id": "",
       "version_major": 2,
       "version_minor": 0
      },
      "text/plain": [
       "FloatProgress(value=0.0, bar_style='info', description='Progress:', layout=Layout(height='25px', width='50%'),…"
      ]
     },
     "metadata": {},
     "output_type": "display_data"
    }
   ],
   "source": [
    "skew_df = spark.sql(\"select (avgstars-stars)/stars as skew from reviews_business\")"
   ]
  },
  {
   "cell_type": "markdown",
   "id": "a3079e27",
   "metadata": {},
   "source": [
    "And finally, graph it!"
   ]
  },
  {
   "cell_type": "code",
   "execution_count": 30,
   "id": "feb8efa4",
   "metadata": {},
   "outputs": [
    {
     "data": {
      "application/vnd.jupyter.widget-view+json": {
       "model_id": "e635edc8c5544c11a7de0d759ee71d43",
       "version_major": 2,
       "version_minor": 0
      },
      "text/plain": [
       "VBox()"
      ]
     },
     "metadata": {},
     "output_type": "display_data"
    },
    {
     "data": {
      "application/vnd.jupyter.widget-view+json": {
       "model_id": "",
       "version_major": 2,
       "version_minor": 0
      },
      "text/plain": [
       "FloatProgress(value=0.0, bar_style='info', description='Progress:', layout=Layout(height='25px', width='50%'),…"
      ]
     },
     "metadata": {},
     "output_type": "display_data"
    },
    {
     "data": {
      "image/png": "[encoded data removed]",
      "text/plain": [
       "<IPython.core.display.Image object>"
      ]
     },
     "metadata": {},
     "output_type": "display_data"
    }
   ],
   "source": [
    "skew_pdf = skew_df.toPandas()\n",
    "\n",
    "plt.figure(figsize=(20,10))\n",
    "sns.distplot(skew_pdf['skew'], \n",
    "            hist=True, \n",
    "            kde=True, \n",
    "            bins=50,\n",
    "            color = 'darkgreen',\n",
    "            kde_kws={'linewidth':1}).\\\n",
    "    set(title = \"Skewness of Yelp Business Rating\",\n",
    "        xlabel = 'Skew')\n",
    "\n",
    "#plt.xlabel('skew')\n",
    "#fig.gca()\n",
    "#fig.set_title=(\"skewness\")\n",
    "%matplot plt"
   ]
  },
  {
   "cell_type": "markdown",
   "id": "4d4e14f4",
   "metadata": {},
   "source": [
    "So, do Yelp (written) Reviews skew negative? Does this analysis actually prove anything? Expound on implications / interpretations of this graph. \n",
    "\n"
   ]
  },
  {
   "cell_type": "markdown",
   "id": "79ee4874",
   "metadata": {},
   "source": [
    "### IMPLICATIONS"
   ]
  },
  {
   "cell_type": "markdown",
   "id": "9c0ad9fb",
   "metadata": {},
   "source": [
    "Here, we can see that the graph is positively skewed to a slight degree and the graph has a longer tail on the right , this means that there is a greater number of people that have given a negative written review. These could be complains from unsatisfied customers about the restaurant service or ambience or price etc. \n",
    "\n"
   ]
  },
  {
   "cell_type": "markdown",
   "id": "c7c74345",
   "metadata": {},
   "source": [
    "# Should the Elite be Trusted?"
   ]
  },
  {
   "cell_type": "markdown",
   "id": "ed348510",
   "metadata": {},
   "source": [
    "How accurate or close are the ratings of an \"elite\" user (check Users table schema) vs the actual business rating? `s3://cis9760-yelpdataset/yelp-light/*user.json`\n",
    "\n",
    "Feel free to use any and all methodologies at your disposal. \n",
    "You must render one visualization in your analysis and interpret your findings."
   ]
  },
  {
   "cell_type": "code",
   "execution_count": 31,
   "id": "a205ed72",
   "metadata": {},
   "outputs": [
    {
     "data": {
      "application/vnd.jupyter.widget-view+json": {
       "model_id": "0a3e58273b6c4403986cf7eda00a591f",
       "version_major": 2,
       "version_minor": 0
      },
      "text/plain": [
       "VBox()"
      ]
     },
     "metadata": {},
     "output_type": "display_data"
    },
    {
     "data": {
      "application/vnd.jupyter.widget-view+json": {
       "model_id": "",
       "version_major": 2,
       "version_minor": 0
      },
      "text/plain": [
       "FloatProgress(value=0.0, bar_style='info', description='Progress:', layout=Layout(height='25px', width='50%'),…"
      ]
     },
     "metadata": {},
     "output_type": "display_data"
    },
    {
     "name": "stdout",
     "output_type": "stream",
     "text": [
      "root\n",
      " |-- average_stars: double (nullable = true)\n",
      " |-- compliment_cool: long (nullable = true)\n",
      " |-- compliment_cute: long (nullable = true)\n",
      " |-- compliment_funny: long (nullable = true)\n",
      " |-- compliment_hot: long (nullable = true)\n",
      " |-- compliment_list: long (nullable = true)\n",
      " |-- compliment_more: long (nullable = true)\n",
      " |-- compliment_note: long (nullable = true)\n",
      " |-- compliment_photos: long (nullable = true)\n",
      " |-- compliment_plain: long (nullable = true)\n",
      " |-- compliment_profile: long (nullable = true)\n",
      " |-- compliment_writer: long (nullable = true)\n",
      " |-- cool: long (nullable = true)\n",
      " |-- elite: string (nullable = true)\n",
      " |-- fans: long (nullable = true)\n",
      " |-- friends: string (nullable = true)\n",
      " |-- funny: long (nullable = true)\n",
      " |-- name: string (nullable = true)\n",
      " |-- review_count: long (nullable = true)\n",
      " |-- useful: long (nullable = true)\n",
      " |-- user_id: string (nullable = true)\n",
      " |-- yelping_since: string (nullable = true)"
     ]
    }
   ],
   "source": [
    "user_data.printSchema()"
   ]
  },
  {
   "cell_type": "code",
   "execution_count": 32,
   "id": "e5aca460",
   "metadata": {},
   "outputs": [
    {
     "data": {
      "application/vnd.jupyter.widget-view+json": {
       "model_id": "13b3167379744dd8bb62f70c8252e3b1",
       "version_major": 2,
       "version_minor": 0
      },
      "text/plain": [
       "VBox()"
      ]
     },
     "metadata": {},
     "output_type": "display_data"
    },
    {
     "data": {
      "application/vnd.jupyter.widget-view+json": {
       "model_id": "",
       "version_major": 2,
       "version_minor": 0
      },
      "text/plain": [
       "FloatProgress(value=0.0, bar_style='info', description='Progress:', layout=Layout(height='25px', width='50%'),…"
      ]
     },
     "metadata": {},
     "output_type": "display_data"
    },
    {
     "name": "stdout",
     "output_type": "stream",
     "text": [
      "+--------------------+----+-------------------+-----+--------------------+-----+--------------------+------+--------------------+--------------------+-----------------+\n",
      "|         business_id|cool|               date|funny|           review_id|stars|                text|useful|             user_id|         business_id|         avgstars|\n",
      "+--------------------+----+-------------------+-----+--------------------+-----+--------------------+------+--------------------+--------------------+-----------------+\n",
      "|--gJkxbsiSIwsQKbi...|   3|2018-11-10 13:11:10|    1|4ww8UA2ZTwGmilBJN...|  4.0|I followed my lon...|     5|fen9BWC39ul9SJZfQ...|--gJkxbsiSIwsQKbi...|4.833333333333333|\n",
      "|--gJkxbsiSIwsQKbi...|   0|2019-01-10 02:51:06|    0|4SPOoOr1ZZWGm-1Om...|  5.0|Amber is the best...|     0|L4q5nCwMaHhXCeSJz...|--gJkxbsiSIwsQKbi...|4.833333333333333|\n",
      "|--gJkxbsiSIwsQKbi...|   0|2019-04-18 18:34:40|    0|CSlZvn9wPq6kIahbc...|  5.0|Gina Marotti in L...|     0|XGmxkw2Zbunt5u2ZD...|--gJkxbsiSIwsQKbi...|4.833333333333333|\n",
      "|--gJkxbsiSIwsQKbi...|   1|2018-12-10 21:36:47|    0|gMGm7d8b8pXwi1Bzl...|  5.0|Irnela Sunj (\"Nel...|     1|8txdIkqyhrSxZ4RMY...|--gJkxbsiSIwsQKbi...|4.833333333333333|\n",
      "|--gJkxbsiSIwsQKbi...|   0|2019-01-10 02:49:46|    0|SL93b9QthJJGb2LAw...|  5.0|I saw Amber the o...|     0|TOmK6TTeQMfktNR__...|--gJkxbsiSIwsQKbi...|4.833333333333333|\n",
      "+--------------------+----+-------------------+-----+--------------------+-----+--------------------+------+--------------------+--------------------+-----------------+\n",
      "only showing top 5 rows"
     ]
    }
   ],
   "source": [
    "elite_join = review_data.join(avg_aggstars, review_data.business_id == avg_aggstars.business_id,how='left')\n",
    "elite_join.show(5)"
   ]
  },
  {
   "cell_type": "code",
   "execution_count": 33,
   "id": "f60bb1e8",
   "metadata": {},
   "outputs": [
    {
     "data": {
      "application/vnd.jupyter.widget-view+json": {
       "model_id": "32f8a99abb0b42178b6479248f2908dc",
       "version_major": 2,
       "version_minor": 0
      },
      "text/plain": [
       "VBox()"
      ]
     },
     "metadata": {},
     "output_type": "display_data"
    },
    {
     "data": {
      "application/vnd.jupyter.widget-view+json": {
       "model_id": "",
       "version_major": 2,
       "version_minor": 0
      },
      "text/plain": [
       "FloatProgress(value=0.0, bar_style='info', description='Progress:', layout=Layout(height='25px', width='50%'),…"
      ]
     },
     "metadata": {},
     "output_type": "display_data"
    },
    {
     "name": "stdout",
     "output_type": "stream",
     "text": [
      "+------------------+-----+-----+------------+\n",
      "|          avgstars|stars|elite|review_count|\n",
      "+------------------+-----+-----+------------+\n",
      "|3.8430717863105177|  5.0|     |          11|\n",
      "| 4.625498007968128|  5.0|     |          11|\n",
      "|3.8030821917808217|  2.0|     |          11|\n",
      "|              3.05|  1.0|     |           9|\n",
      "|             3.652|  2.0|     |          50|\n",
      "+------------------+-----+-----+------------+\n",
      "only showing top 5 rows"
     ]
    }
   ],
   "source": [
    "#now join this with user data\n",
    "\n",
    "eluser_review=user_data.join(elite_join, on=\"user_id\", how=\"inner\")\n",
    "\n",
    "elite_laundey=eluser_review.select('avgstars','stars', 'elite','review_count')\n",
    "elite_laundey.show(5)\n",
    "\n",
    "#eluser_review.show(5)"
   ]
  },
  {
   "cell_type": "code",
   "execution_count": 34,
   "id": "16ef3f60",
   "metadata": {},
   "outputs": [
    {
     "data": {
      "application/vnd.jupyter.widget-view+json": {
       "model_id": "0f2eb4fc4f164f5b89853096564cf665",
       "version_major": 2,
       "version_minor": 0
      },
      "text/plain": [
       "VBox()"
      ]
     },
     "metadata": {},
     "output_type": "display_data"
    },
    {
     "data": {
      "application/vnd.jupyter.widget-view+json": {
       "model_id": "",
       "version_major": 2,
       "version_minor": 0
      },
      "text/plain": [
       "FloatProgress(value=0.0, bar_style='info', description='Progress:', layout=Layout(height='25px', width='50%'),…"
      ]
     },
     "metadata": {},
     "output_type": "display_data"
    },
    {
     "name": "stdout",
     "output_type": "stream",
     "text": [
      "+------------------+-----+-----+------------+-----+\n",
      "|          avgstars|stars|elite|review_count| skew|\n",
      "+------------------+-----+-----+------------+-----+\n",
      "|3.8430717863105177|  5.0|     |          11|-0.23|\n",
      "|3.8030821917808217|  2.0|     |          11|  0.9|\n",
      "| 4.625498007968128|  5.0|     |          11|-0.07|\n",
      "|              3.05|  1.0|     |           9| 2.05|\n",
      "|             3.652|  2.0|     |          50| 0.83|\n",
      "+------------------+-----+-----+------------+-----+\n",
      "only showing top 5 rows"
     ]
    }
   ],
   "source": [
    "import pyspark.sql.functions as F\n",
    "review_skew = elite_laundey.withColumn(\"skew\", F.round((F.col('avgstars')-F.col('stars'))/F.col('stars'), 2))\n",
    "\n",
    "review_skew.show(5)"
   ]
  },
  {
   "cell_type": "code",
   "execution_count": 35,
   "id": "de5d51fa",
   "metadata": {},
   "outputs": [
    {
     "data": {
      "application/vnd.jupyter.widget-view+json": {
       "model_id": "f3dd200642e74a68810bcd207ecb214a",
       "version_major": 2,
       "version_minor": 0
      },
      "text/plain": [
       "VBox()"
      ]
     },
     "metadata": {},
     "output_type": "display_data"
    },
    {
     "data": {
      "application/vnd.jupyter.widget-view+json": {
       "model_id": "",
       "version_major": 2,
       "version_minor": 0
      },
      "text/plain": [
       "FloatProgress(value=0.0, bar_style='info', description='Progress:', layout=Layout(height='25px', width='50%'),…"
      ]
     },
     "metadata": {},
     "output_type": "display_data"
    },
    {
     "data": {
      "image/png": "[encoded data removed]",
      "text/plain": [
       "<IPython.core.display.Image object>"
      ]
     },
     "metadata": {},
     "output_type": "display_data"
    }
   ],
   "source": [
    "elite_review_skew=review_skew.filter(F.col('elite')!='')\n",
    "\n",
    "result_pdf = elite_review_skew.toPandas()\n",
    "plt.figure()\n",
    "sns.distplot(result_pdf['skew'], \n",
    "            hist=True, \n",
    "            kde=True, \n",
    "            bins=50,\n",
    "            color = 'orange',\n",
    "            kde_kws={'linewidth':1})\n",
    "\n",
    "plt.title('Elite User\\'s YELP Reviews')\n",
    "plt.xlabel('Rating Skew')\n",
    "plt.ylabel('Probability')\n",
    "plt.tight_layout()\n",
    "plt.box(False)\n",
    "\n",
    "%matplot plt"
   ]
  },
  {
   "cell_type": "code",
   "execution_count": 36,
   "id": "405e92b5",
   "metadata": {},
   "outputs": [
    {
     "data": {
      "application/vnd.jupyter.widget-view+json": {
       "model_id": "f644c5847f20416982ce5ec6664f3f70",
       "version_major": 2,
       "version_minor": 0
      },
      "text/plain": [
       "VBox()"
      ]
     },
     "metadata": {},
     "output_type": "display_data"
    },
    {
     "data": {
      "application/vnd.jupyter.widget-view+json": {
       "model_id": "",
       "version_major": 2,
       "version_minor": 0
      },
      "text/plain": [
       "FloatProgress(value=0.0, bar_style='info', description='Progress:', layout=Layout(height='25px', width='50%'),…"
      ]
     },
     "metadata": {},
     "output_type": "display_data"
    },
    {
     "data": {
      "image/png": "[encoded data removed]",
      "text/plain": [
       "<IPython.core.display.Image object>"
      ]
     },
     "metadata": {},
     "output_type": "display_data"
    }
   ],
   "source": [
    "nonelite_review_skew=review_skew.filter(F.col('elite')=='')\n",
    "\n",
    "result_pdf = elite_review_skew.toPandas()\n",
    "plt.figure()\n",
    "sns.distplot(result_pdf['skew'], \n",
    "            hist=True, \n",
    "            kde=True, \n",
    "            bins=50,\n",
    "            color = 'navy',\n",
    "            kde_kws={'linewidth':1})\n",
    "\n",
    "plt.title('Non-Elite User\\'s YELP Reviews')\n",
    "plt.xlabel('Rating Skew')\n",
    "plt.ylabel('Probability')\n",
    "plt.tight_layout()\n",
    "plt.box(True)\n",
    "\n",
    "%matplot plt"
   ]
  },
  {
   "cell_type": "markdown",
   "id": "50aac0f4",
   "metadata": {},
   "source": [
    "From both the above graphs , it can be clearly gathered that by looking at the skewness of the elite vs non-elite there is'nt significant difference between the two, so it is safe to say that elite users don't have a significant impact on ratings."
   ]
  }
 ],
 "metadata": {
  "kernelspec": {
   "display_name": "PySpark",
   "language": "",
   "name": "pysparkkernel"
  },
  "language_info": {
   "codemirror_mode": {
    "name": "python",
    "version": 2
   },
   "mimetype": "text/x-python",
   "name": "pyspark",
   "pygments_lexer": "python2"
  }
 },
 "nbformat": 4,
 "nbformat_minor": 5
}
